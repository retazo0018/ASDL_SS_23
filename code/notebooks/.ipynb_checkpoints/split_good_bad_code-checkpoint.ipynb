{
 "cells": [
  {
   "cell_type": "code",
   "execution_count": 1,
   "id": "3ed7d687",
   "metadata": {},
   "outputs": [],
   "source": [
    "import random"
   ]
  },
  {
   "cell_type": "code",
   "execution_count": 2,
   "id": "60812672",
   "metadata": {},
   "outputs": [
    {
     "ename": "FileNotFoundError",
     "evalue": "[Errno 2] No such file or directory: '../old.txt'",
     "output_type": "error",
     "traceback": [
      "\u001b[0;31m---------------------------------------------------------------------------\u001b[0m",
      "\u001b[0;31mFileNotFoundError\u001b[0m                         Traceback (most recent call last)",
      "\u001b[0;32m/var/folders/xb/30xg272d5vvgb4j5ck496gjm0000gn/T/ipykernel_5865/1022123.py\u001b[0m in \u001b[0;36m<module>\u001b[0;34m\u001b[0m\n\u001b[0;32m----> 1\u001b[0;31m \u001b[0;32mwith\u001b[0m \u001b[0mopen\u001b[0m\u001b[0;34m(\u001b[0m\u001b[0;34m'../old.txt'\u001b[0m\u001b[0;34m,\u001b[0m \u001b[0;34m'r'\u001b[0m\u001b[0;34m)\u001b[0m \u001b[0;32mas\u001b[0m \u001b[0mf\u001b[0m\u001b[0;34m:\u001b[0m\u001b[0;34m\u001b[0m\u001b[0;34m\u001b[0m\u001b[0m\n\u001b[0m\u001b[1;32m      2\u001b[0m     \u001b[0mbuggy_code\u001b[0m \u001b[0;34m=\u001b[0m \u001b[0mf\u001b[0m\u001b[0;34m.\u001b[0m\u001b[0mreadlines\u001b[0m\u001b[0;34m(\u001b[0m\u001b[0;34m)\u001b[0m\u001b[0;34m\u001b[0m\u001b[0;34m\u001b[0m\u001b[0m\n\u001b[1;32m      3\u001b[0m \u001b[0;34m\u001b[0m\u001b[0m\n\u001b[1;32m      4\u001b[0m \u001b[0;32mwith\u001b[0m \u001b[0mopen\u001b[0m\u001b[0;34m(\u001b[0m\u001b[0;34m'../new.txt'\u001b[0m\u001b[0;34m,\u001b[0m \u001b[0;34m'r'\u001b[0m\u001b[0;34m)\u001b[0m \u001b[0;32mas\u001b[0m \u001b[0mf\u001b[0m\u001b[0;34m:\u001b[0m\u001b[0;34m\u001b[0m\u001b[0;34m\u001b[0m\u001b[0m\n\u001b[1;32m      5\u001b[0m     \u001b[0mgood_code\u001b[0m \u001b[0;34m=\u001b[0m \u001b[0mf\u001b[0m\u001b[0;34m.\u001b[0m\u001b[0mreadlines\u001b[0m\u001b[0;34m(\u001b[0m\u001b[0;34m)\u001b[0m\u001b[0;34m\u001b[0m\u001b[0;34m\u001b[0m\u001b[0m\n",
      "\u001b[0;31mFileNotFoundError\u001b[0m: [Errno 2] No such file or directory: '../old.txt'"
     ]
    }
   ],
   "source": [
    "with open('tmp/buggy.txt', 'r') as f:\n",
    "    buggy_code = f.readlines()\n",
    "\n",
    "with open('tmp/good.txt', 'r') as f:\n",
    "    good_code = f.readlines()"
   ]
  },
  {
   "cell_type": "code",
   "execution_count": 7,
   "id": "9209b8bd",
   "metadata": {},
   "outputs": [
    {
     "data": {
      "text/plain": [
       "513"
      ]
     },
     "execution_count": 7,
     "metadata": {},
     "output_type": "execute_result"
    }
   ],
   "source": [
    "len(buggy_code)"
   ]
  },
  {
   "cell_type": "code",
   "execution_count": 8,
   "id": "92574b6e",
   "metadata": {},
   "outputs": [
    {
     "data": {
      "text/plain": [
       "513"
      ]
     },
     "execution_count": 8,
     "metadata": {},
     "output_type": "execute_result"
    }
   ],
   "source": [
    "len(good_code)"
   ]
  },
  {
   "cell_type": "code",
   "execution_count": 17,
   "id": "26d5a373",
   "metadata": {},
   "outputs": [
    {
     "data": {
      "text/plain": [
       "['from ..util.data_gen import DataGen\\n',\n",
       " '\\n',\n",
       " '\\n',\n",
       " 'class Model(object):\\n',\n",
       " '    def __init__(self,\\n',\n",
       " '                 phase,\\n',\n",
       " '                 visualize,\\n',\n",
       " '                 output_dir,\\n',\n",
       " '                 batch_size,\\n',\n",
       " '                 initial_learning_rate,\\n']"
      ]
     },
     "execution_count": 17,
     "metadata": {},
     "output_type": "execute_result"
    }
   ],
   "source": [
    "buggy_code[20:30]"
   ]
  },
  {
   "cell_type": "code",
   "execution_count": 34,
   "id": "068f1dc0",
   "metadata": {},
   "outputs": [],
   "source": [
    "def get_good_buggy_chunk(idx, buggy_code, good_code):\n",
    "    offset = random.randint(3,9)\n",
    "    if len(buggy_code)-idx > offset:\n",
    "        buggy_chunk, good_chunk = buggy_code[idx-offset:idx+offset], good_code[idx-offset:idx+offset] \n",
    "    else:\n",
    "        buggy_chunk, good_chunk = buggy_code[idx-offset:], good_code[idx-offset:]\n",
    "    return buggy_chunk, good_chunk"
   ]
  },
  {
   "cell_type": "code",
   "execution_count": 35,
   "id": "f6715207",
   "metadata": {},
   "outputs": [],
   "source": [
    "for i in range(len(buggy_code)):\n",
    "    if buggy_code[i] != good_code[i]:\n",
    "        buggy_chunk, good_chunk = get_good_buggy_chunk(i, buggy_code, good_code)"
   ]
  },
  {
   "cell_type": "code",
   "execution_count": 36,
   "id": "e596ee4e",
   "metadata": {},
   "outputs": [
    {
     "data": {
      "text/plain": [
       "(['            file_img_data = BytesIO(img_data)\\n',\n",
       "  '            img = Image.open(file_img_data)\\n',\n",
       "  '            w, h = img.size\\n',\n",
       "  '            mh = 32\\n',\n",
       "  '            mw = math.floor(1. * w / h * mh)\\n',\n",
       "  '            img = img.resize(\\n',\n",
       "  '                    (mw, h),\\n',\n",
       "  '                    Image.ANTIALIAS)\\n',\n",
       "  '            img_data = np.asarray(img, dtype=np.uint8)\\n',\n",
       "  '            for idx in xrange(len(output)):\\n',\n",
       "  \"                output_filename = os.path.join(output_dir, 'image_%d.jpg' % (idx))\\n\",\n",
       "  '                attention = attentions[idx][:(int(mw/4)-1)]\\n'],\n",
       " ['            file_img_data = BytesIO(img_data)\\n',\n",
       "  '            img = Image.open(file_img_data)\\n',\n",
       "  '            w, h = img.size\\n',\n",
       "  '            mh = 32\\n',\n",
       "  '            mw = math.floor(1. * w / h * mh)\\n',\n",
       "  '            img = img.resize(\\n',\n",
       "  '                    (mw, mh),\\n',\n",
       "  '                    Image.ANTIALIAS)\\n',\n",
       "  '            img_data = np.asarray(img, dtype=np.uint8)\\n',\n",
       "  '            for idx in xrange(len(output)):\\n',\n",
       "  \"                output_filename = os.path.join(output_dir, 'image_%d.jpg' % (idx))\\n\",\n",
       "  '                attention = attentions[idx][:(int(mw/4)-1)]\\n'])"
      ]
     },
     "execution_count": 36,
     "metadata": {},
     "output_type": "execute_result"
    }
   ],
   "source": [
    "buggy_chunk, good_chunk"
   ]
  },
  {
   "cell_type": "code",
   "execution_count": null,
   "id": "f4ac07ee",
   "metadata": {},
   "outputs": [],
   "source": []
  }
 ],
 "metadata": {
  "kernelspec": {
   "display_name": "Python 3 (ipykernel)",
   "language": "python",
   "name": "python3"
  },
  "language_info": {
   "codemirror_mode": {
    "name": "ipython",
    "version": 3
   },
   "file_extension": ".py",
   "mimetype": "text/x-python",
   "name": "python",
   "nbconvert_exporter": "python",
   "pygments_lexer": "ipython3",
   "version": "3.7.12"
  }
 },
 "nbformat": 4,
 "nbformat_minor": 5
}
