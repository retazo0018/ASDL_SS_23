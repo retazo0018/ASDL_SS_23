{
 "cells": [
  {
   "cell_type": "code",
   "execution_count": 4,
   "id": "cbcb5f78",
   "metadata": {},
   "outputs": [],
   "source": [
    "import jsonlines"
   ]
  },
  {
   "cell_type": "code",
   "execution_count": 6,
   "id": "d7b1a4a9",
   "metadata": {},
   "outputs": [],
   "source": [
    "f = '../data/pypibugs/pypi-bugs.jsonl'"
   ]
  },
  {
   "cell_type": "code",
   "execution_count": 10,
   "id": "71e5b0d7",
   "metadata": {},
   "outputs": [
    {
     "name": "stdout",
     "output_type": "stream",
     "text": [
      "{'repo': 'https://:@github.com/matthewdowney/TogglPy.git', 'hash': 'd5b630aec58d29b85ccffa527d24766eef6f61f9', 'diff': \"@@ -197,7 +197,7 @@ class Toggl():\\n         day = datetime.now().day if not day else day\\n         hour = datetime.now().hour if not hour else hour\\n \\n-        timestruct = datetime(year, month, day, hour - hourdiff).isoformat() + '.000Z'\\n+        timestruct = datetime(year, month, day, hour + hourdiff).isoformat() + '.000Z'\\n         data['time_entry']['start'] = timestruct\\n         data['time_entry']['duration'] = hourduration * 3600\\n         data['time_entry']['pid'] = projectid\\n\", 'old_path': 'toggl/TogglPy.py', 'rewrite': \"ReplaceText(target='+' @(200,53)->(200,54))\"}\n",
      "> \u001b[0;32m/var/folders/xb/30xg272d5vvgb4j5ck496gjm0000gn/T/ipykernel_9839/3112464193.py\u001b[0m(7)\u001b[0;36m<module>\u001b[0;34m()\u001b[0m\n",
      "\u001b[0;32m      4 \u001b[0;31m        \u001b[0;32mif\u001b[0m \u001b[0mc\u001b[0m \u001b[0;34m==\u001b[0m \u001b[0;36m3\u001b[0m\u001b[0;34m:\u001b[0m\u001b[0;34m\u001b[0m\u001b[0;34m\u001b[0m\u001b[0m\n",
      "\u001b[0m\u001b[0;32m      5 \u001b[0;31m            \u001b[0mprint\u001b[0m\u001b[0;34m(\u001b[0m\u001b[0mobj\u001b[0m\u001b[0;34m)\u001b[0m\u001b[0;34m\u001b[0m\u001b[0;34m\u001b[0m\u001b[0m\n",
      "\u001b[0m\u001b[0;32m      6 \u001b[0;31m            \u001b[0;32mimport\u001b[0m \u001b[0mpdb\u001b[0m\u001b[0;34m;\u001b[0m \u001b[0mpdb\u001b[0m\u001b[0;34m.\u001b[0m\u001b[0mset_trace\u001b[0m\u001b[0;34m(\u001b[0m\u001b[0;34m)\u001b[0m\u001b[0;34m\u001b[0m\u001b[0;34m\u001b[0m\u001b[0m\n",
      "\u001b[0m\u001b[0;32m----> 7 \u001b[0;31m            \u001b[0;32mbreak\u001b[0m\u001b[0;34m\u001b[0m\u001b[0;34m\u001b[0m\u001b[0m\n",
      "\u001b[0m\u001b[0;32m      8 \u001b[0;31m        \u001b[0mc\u001b[0m \u001b[0;34m+=\u001b[0m \u001b[0;36m1\u001b[0m\u001b[0;34m\u001b[0m\u001b[0;34m\u001b[0m\u001b[0m\n",
      "\u001b[0m\n",
      "ipdb> obj[\"diff\"]\n",
      "\"@@ -197,7 +197,7 @@ class Toggl():\\n         day = datetime.now().day if not day else day\\n         hour = datetime.now().hour if not hour else hour\\n \\n-        timestruct = datetime(year, month, day, hour - hourdiff).isoformat() + '.000Z'\\n+        timestruct = datetime(year, month, day, hour + hourdiff).isoformat() + '.000Z'\\n         data['time_entry']['start'] = timestruct\\n         data['time_entry']['duration'] = hourduration * 3600\\n         data['time_entry']['pid'] = projectid\\n\"\n",
      "ipdb> len(obj[\"diff\"])\n",
      "484\n",
      "ipdb> obj[\"diff\"][200]\n",
      "'u'\n",
      "ipdb> obj[\"diff\"][53]\n",
      "'e'\n",
      "ipdb> obj[\"diff\"][54]\n",
      "'t'\n",
      "ipdb> exit()\n"
     ]
    }
   ],
   "source": [
    "c = 0\n",
    "with jsonlines.open(f) as reader:\n",
    "    for obj in reader:\n",
    "        if c == 3:\n",
    "            print(obj)\n",
    "            import pdb; pdb.set_trace()\n",
    "            break\n",
    "        c += 1"
   ]
  },
  {
   "cell_type": "code",
   "execution_count": null,
   "id": "8a50bce5",
   "metadata": {},
   "outputs": [],
   "source": []
  },
  {
   "cell_type": "code",
   "execution_count": null,
   "id": "6aaf95eb",
   "metadata": {},
   "outputs": [],
   "source": []
  },
  {
   "cell_type": "code",
   "execution_count": null,
   "id": "5bf8286b",
   "metadata": {},
   "outputs": [],
   "source": []
  },
  {
   "cell_type": "code",
   "execution_count": null,
   "id": "b6fe70fd",
   "metadata": {},
   "outputs": [],
   "source": []
  },
  {
   "cell_type": "code",
   "execution_count": null,
   "id": "f8302cca",
   "metadata": {},
   "outputs": [],
   "source": []
  },
  {
   "cell_type": "code",
   "execution_count": null,
   "id": "de42607d",
   "metadata": {},
   "outputs": [],
   "source": []
  },
  {
   "cell_type": "code",
   "execution_count": null,
   "id": "d9f98db2",
   "metadata": {},
   "outputs": [],
   "source": []
  }
 ],
 "metadata": {
  "kernelspec": {
   "display_name": "Python 3 (ipykernel)",
   "language": "python",
   "name": "python3"
  },
  "language_info": {
   "codemirror_mode": {
    "name": "ipython",
    "version": 3
   },
   "file_extension": ".py",
   "mimetype": "text/x-python",
   "name": "python",
   "nbconvert_exporter": "python",
   "pygments_lexer": "ipython3",
   "version": "3.7.12"
  }
 },
 "nbformat": 4,
 "nbformat_minor": 5
}
