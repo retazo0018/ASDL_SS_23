{
 "cells": [
  {
   "cell_type": "code",
   "execution_count": 1,
   "id": "3ed7d687",
   "metadata": {},
   "outputs": [],
   "source": [
    "import random"
   ]
  },
  {
   "cell_type": "code",
   "execution_count": 2,
   "id": "60812672",
   "metadata": {},
   "outputs": [],
   "source": [
    "with open('../tmp/buggy.txt', 'r') as f:\n",
    "    buggy_code = f.readlines()\n",
    "\n",
    "with open('../tmp/good.txt', 'r') as f:\n",
    "    good_code = f.readlines()"
   ]
  },
  {
   "cell_type": "code",
   "execution_count": 5,
   "id": "9209b8bd",
   "metadata": {},
   "outputs": [
    {
     "data": {
      "text/plain": [
       "745"
      ]
     },
     "execution_count": 5,
     "metadata": {},
     "output_type": "execute_result"
    }
   ],
   "source": [
    "len(buggy_code)"
   ]
  },
  {
   "cell_type": "code",
   "execution_count": 6,
   "id": "92574b6e",
   "metadata": {},
   "outputs": [
    {
     "data": {
      "text/plain": [
       "745"
      ]
     },
     "execution_count": 6,
     "metadata": {},
     "output_type": "execute_result"
    }
   ],
   "source": [
    "len(good_code)"
   ]
  },
  {
   "cell_type": "code",
   "execution_count": 3,
   "id": "068f1dc0",
   "metadata": {},
   "outputs": [],
   "source": [
    "def get_good_buggy_chunk(idx, buggy_code, good_code):\n",
    "    offset = random.randint(3,9)\n",
    "    if len(buggy_code)-idx > offset:\n",
    "        buggy_chunk, good_chunk = buggy_code[idx-offset:idx+offset], good_code[idx-offset:idx+offset] \n",
    "    else:\n",
    "        buggy_chunk, good_chunk = buggy_code[idx-offset:], good_code[idx-offset:]\n",
    "    return buggy_chunk, good_chunk"
   ]
  },
  {
   "cell_type": "code",
   "execution_count": 4,
   "id": "f6715207",
   "metadata": {},
   "outputs": [],
   "source": [
    "for i in range(len(buggy_code)):\n",
    "    if buggy_code[i] != good_code[i]:\n",
    "        index = i\n",
    "        buggy_chunk, good_chunk = get_good_buggy_chunk(i, buggy_code, good_code)"
   ]
  },
  {
   "cell_type": "code",
   "execution_count": 5,
   "id": "e596ee4e",
   "metadata": {},
   "outputs": [
    {
     "data": {
      "text/plain": [
       "99"
      ]
     },
     "execution_count": 5,
     "metadata": {},
     "output_type": "execute_result"
    }
   ],
   "source": [
    "index"
   ]
  },
  {
   "cell_type": "code",
   "execution_count": 13,
   "id": "cd26122f",
   "metadata": {},
   "outputs": [
    {
     "data": {
      "text/plain": [
       "'    assert isinstance(ams_netid, SAmsNetId)\\n'"
      ]
     },
     "execution_count": 13,
     "metadata": {},
     "output_type": "execute_result"
    }
   ],
   "source": [
    "buggy_code[99]"
   ]
  },
  {
   "cell_type": "code",
   "execution_count": 11,
   "id": "ecb4be84",
   "metadata": {},
   "outputs": [
    {
     "name": "stdout",
     "output_type": "stream",
     "text": [
      "96 99 101\n",
      "['        ams_netid_st = ams_netid\\n', '\\n', '    assert isinstance(ams_netid, SAmsNetId)\\n', '\\n']\n"
     ]
    }
   ],
   "source": [
    "prev = index - 1\n",
    "while True:\n",
    "    if prev == 0:\n",
    "        break\n",
    "    elif len(buggy_code[prev].strip()) > 0 and buggy_code[prev].strip()[-1] == ':':\n",
    "        break\n",
    "    prev -=1\n",
    "nex = index + 1\n",
    "while True:\n",
    "    if nex == len(buggy_code):\n",
    "        break\n",
    "    elif len(buggy_code[nex].strip()) > 0 and buggy_code[nex].strip()[-1] == ':':\n",
    "        break\n",
    "    nex +=1\n",
    "print(prev, index, nex)\n",
    "print(buggy_code[prev+1:nex])"
   ]
  },
  {
   "cell_type": "code",
   "execution_count": 14,
   "id": "f4ac07ee",
   "metadata": {},
   "outputs": [
    {
     "data": {
      "text/plain": [
       "['    adsPortClose()\\n',\n",
       " '\\n',\n",
       " '\\n',\n",
       " 'def get_local_address():\\n',\n",
       " '    \"\"\"\\n',\n",
       " '    :summary: Return the local AMS-address and the port number.\\n',\n",
       " '\\n',\n",
       " '    :rtype: AmsAddr\\n',\n",
       " '\\n',\n",
       " '    \"\"\"\\n',\n",
       " '    if linux:\\n',\n",
       " '        return adsGetLocalAddressEx(port)\\n',\n",
       " '\\n',\n",
       " '    return adsGetLocalAddress()\\n',\n",
       " '\\n',\n",
       " '\\n',\n",
       " 'def set_local_address(ams_netid):\\n',\n",
       " '    \"\"\"\\n',\n",
       " '    :summary: Set the local NetID (**Linux only**).\\n',\n",
       " '\\n',\n",
       " '    :param str: new AmsNetID\\n',\n",
       " '    :rtype: None\\n',\n",
       " '\\n',\n",
       " '    \"\"\"\\n',\n",
       " '    if isinstance(ams_netid, str):\\n',\n",
       " '        ams_netid_st = parse_ams_netid(ams_netid)\\n',\n",
       " '    else:\\n',\n",
       " '        ams_netid_st = ams_netid\\n',\n",
       " '\\n',\n",
       " '    assert isinstance(ams_netid, SAmsNetId)\\n',\n",
       " '\\n',\n",
       " '    if linux:\\n',\n",
       " '        return adsSetLocalAddress(ams_netid_st)\\n',\n",
       " \"    raise ADSError('SetLocalAddress is not supported for Windows clients.')\\n\",\n",
       " '\\n',\n",
       " '\\n',\n",
       " 'def read_state(adr):\\n',\n",
       " '    \"\"\"\\n',\n",
       " '    :summary: Read the current ADS-state and the machine-state.\\n',\n",
       " '\\n',\n",
       " '    Read the current ADS-state and the machine-state from the\\n',\n",
       " '    ADS-server.\\n',\n",
       " '\\n',\n",
       " '    :param AmsAddr adr: local or remote AmsAddr\\n',\n",
       " '    :rtype: (int, int)\\n',\n",
       " '    :return: adsState, deviceState\\n',\n",
       " '\\n',\n",
       " '    \"\"\"\\n',\n",
       " '    if linux:\\n',\n",
       " '        return adsSyncReadStateReqEx(port, adr)\\n',\n",
       " '\\n',\n",
       " '    return adsSyncReadStateReq(adr)\\n',\n",
       " '\\n',\n",
       " '\\n',\n",
       " 'def write_control(adr, ads_state, device_state, data, plc_datatype):\\n']"
      ]
     },
     "execution_count": 14,
     "metadata": {},
     "output_type": "execute_result"
    }
   ],
   "source": [
    "buggy_code[70:125]"
   ]
  }
 ],
 "metadata": {
  "kernelspec": {
   "display_name": "Python 3 (ipykernel)",
   "language": "python",
   "name": "python3"
  },
  "language_info": {
   "codemirror_mode": {
    "name": "ipython",
    "version": 3
   },
   "file_extension": ".py",
   "mimetype": "text/x-python",
   "name": "python",
   "nbconvert_exporter": "python",
   "pygments_lexer": "ipython3",
   "version": "3.7.12"
  }
 },
 "nbformat": 4,
 "nbformat_minor": 5
}
